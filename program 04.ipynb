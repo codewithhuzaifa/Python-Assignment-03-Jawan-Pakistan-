{
 "cells": [
  {
   "cell_type": "code",
   "execution_count": 5,
   "id": "38a844a7",
   "metadata": {},
   "outputs": [
    {
     "name": "stdout",
     "output_type": "stream",
     "text": [
      "4\n",
      "Area of Circle is: 50.272\n"
     ]
    }
   ],
   "source": [
    "#4. Write a Python program which accepts the radius of a circle from the user and compute the area.\n",
    "\n",
    "rad = float(input())\n",
    "area_of_circle = 3.142 * ((rad)*(rad))\n",
    "print(\"Area of Circle is: %.3f\"%area_of_circle)"
   ]
  },
  {
   "cell_type": "code",
   "execution_count": null,
   "id": "5fa06d8b",
   "metadata": {},
   "outputs": [],
   "source": []
  }
 ],
 "metadata": {
  "kernelspec": {
   "display_name": "Python 3",
   "language": "python",
   "name": "python3"
  },
  "language_info": {
   "codemirror_mode": {
    "name": "ipython",
    "version": 3
   },
   "file_extension": ".py",
   "mimetype": "text/x-python",
   "name": "python",
   "nbconvert_exporter": "python",
   "pygments_lexer": "ipython3",
   "version": "3.8.8"
  }
 },
 "nbformat": 4,
 "nbformat_minor": 5
}
