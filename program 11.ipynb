{
 "cells": [
  {
   "cell_type": "code",
   "execution_count": 2,
   "id": "4ec40e00",
   "metadata": {},
   "outputs": [
    {
     "name": "stdout",
     "output_type": "stream",
     "text": [
      "Largest Element in List is: 919\n"
     ]
    }
   ],
   "source": [
    "#11.Write a Python program to get the largest number from a numeric list.\n",
    "\n",
    "t = [10, 200, 44, 450, 919]\n",
    "t.sort()\n",
    "print(\"Largest Element in List is:\", t[-1])"
   ]
  },
  {
   "cell_type": "code",
   "execution_count": 4,
   "id": "45b7d988",
   "metadata": {},
   "outputs": [
    {
     "name": "stdout",
     "output_type": "stream",
     "text": [
      "Largest Element In List Is: 919\n"
     ]
    }
   ],
   "source": [
    "#method 02\n",
    "\n",
    "print(\"Largest Element In List Is:\", max(t))"
   ]
  },
  {
   "cell_type": "code",
   "execution_count": null,
   "id": "a656bc3b",
   "metadata": {},
   "outputs": [],
   "source": []
  }
 ],
 "metadata": {
  "kernelspec": {
   "display_name": "Python 3",
   "language": "python",
   "name": "python3"
  },
  "language_info": {
   "codemirror_mode": {
    "name": "ipython",
    "version": 3
   },
   "file_extension": ".py",
   "mimetype": "text/x-python",
   "name": "python",
   "nbconvert_exporter": "python",
   "pygments_lexer": "ipython3",
   "version": "3.8.8"
  }
 },
 "nbformat": 4,
 "nbformat_minor": 5
}
