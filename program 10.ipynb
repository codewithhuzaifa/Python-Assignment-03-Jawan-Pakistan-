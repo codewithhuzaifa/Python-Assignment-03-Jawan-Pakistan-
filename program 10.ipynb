{
 "cells": [
  {
   "cell_type": "code",
   "execution_count": 3,
   "id": "295c61f6",
   "metadata": {},
   "outputs": [
    {
     "name": "stdout",
     "output_type": "stream",
     "text": [
      "Sum of all the numeric items in a list is :  11\n"
     ]
    }
   ],
   "source": [
    "#10.Write a Python program to sum all the numeric items in a list?\n",
    "\n",
    "y = 0\n",
    "x = [2,0,0,2,3,'x',4.212,4]\n",
    "\n",
    "for t in range(len(x)):\n",
    "    if type(x[t]) == int:\n",
    "        y += x[t]\n",
    "print(\"Sum of all the numeric items in a list is : \",y)"
   ]
  },
  {
   "cell_type": "code",
   "execution_count": null,
   "id": "c07bfab2",
   "metadata": {},
   "outputs": [],
   "source": []
  }
 ],
 "metadata": {
  "kernelspec": {
   "display_name": "Python 3",
   "language": "python",
   "name": "python3"
  },
  "language_info": {
   "codemirror_mode": {
    "name": "ipython",
    "version": 3
   },
   "file_extension": ".py",
   "mimetype": "text/x-python",
   "name": "python",
   "nbconvert_exporter": "python",
   "pygments_lexer": "ipython3",
   "version": "3.8.8"
  }
 },
 "nbformat": 4,
 "nbformat_minor": 5
}
