{
 "cells": [
  {
   "cell_type": "code",
   "execution_count": 3,
   "id": "3f4e8518",
   "metadata": {},
   "outputs": [
    {
     "name": "stdout",
     "output_type": "stream",
     "text": [
      "Enter English marks : 75\n",
      "Enter Math marks : 65\n",
      "Enter Urdu marks : 75\n",
      "Enter Islamiat marks : 85\n",
      "Enter Science marks : 65\n",
      "you got an A grade with 75 Percentage\n"
     ]
    }
   ],
   "source": [
    "#7. Write a program which takes 5 inputs from user for different subject’s marks, total it and generate mark sheet using grades ?\n",
    "\n",
    "a = (int(input(\"Enter English marks : \")))\n",
    "b = (int(input(\"Enter Math marks : \")))\n",
    "c = (int(input(\"Enter Urdu marks : \")))\n",
    "d = (int(input(\"Enter Islamiat marks : \")))\n",
    "e = (int(input(\"Enter Science marks : \")))\n",
    "total = a+b+c+d;\n",
    "per = (total / 400) * 100\n",
    "if per>= 80:\n",
    "    print(\"you got an A+ grade with %d Percentage\"%per)\n",
    "elif per>= 70 and per<80:\n",
    "    print(\"you got an A grade with %d Percentage\"%per)\n",
    "elif per>= 60 and per<70:\n",
    "    print(\"you got an B grade with %d Percentage\"%per)\n",
    "elif per>= 50 and per<60:\n",
    "    print(\"you got an C grade with %d Percentage\"%per)\n",
    "elif per>= 40 and per<50:\n",
    "    print(\"you got an D grade with %d Percentage\"%per)\n",
    "else:\n",
    "    print(\"You Failed and your percentage is: %d\"%per)"
   ]
  },
  {
   "cell_type": "code",
   "execution_count": null,
   "id": "4fe41cb8",
   "metadata": {},
   "outputs": [],
   "source": []
  }
 ],
 "metadata": {
  "kernelspec": {
   "display_name": "Python 3",
   "language": "python",
   "name": "python3"
  },
  "language_info": {
   "codemirror_mode": {
    "name": "ipython",
    "version": 3
   },
   "file_extension": ".py",
   "mimetype": "text/x-python",
   "name": "python",
   "nbconvert_exporter": "python",
   "pygments_lexer": "ipython3",
   "version": "3.8.8"
  }
 },
 "nbformat": 4,
 "nbformat_minor": 5
}
