{
 "cells": [
  {
   "cell_type": "code",
   "execution_count": 3,
   "id": "86fc4ea6",
   "metadata": {},
   "outputs": [
    {
     "name": "stdout",
     "output_type": "stream",
     "text": [
      "Enter your First Name : Muhammad Huzaifa\n",
      "Enter your Last Name : Jamil\n",
      "Hello Jamil Muhammad Huzaifa\n"
     ]
    }
   ],
   "source": [
    "#5. Write a Python program which accepts the user's first and last name and print them in reverse order with a space between them.\n",
    "\n",
    "first_name = input(\"Enter your First Name : \")\n",
    "last_name = input(\"Enter your Last Name : \")\n",
    "print (\"Hello \" + last_name + \" \" + first_name)"
   ]
  },
  {
   "cell_type": "code",
   "execution_count": null,
   "id": "c76ab3ed",
   "metadata": {},
   "outputs": [],
   "source": []
  }
 ],
 "metadata": {
  "kernelspec": {
   "display_name": "Python 3",
   "language": "python",
   "name": "python3"
  },
  "language_info": {
   "codemirror_mode": {
    "name": "ipython",
    "version": 3
   },
   "file_extension": ".py",
   "mimetype": "text/x-python",
   "name": "python",
   "nbconvert_exporter": "python",
   "pygments_lexer": "ipython3",
   "version": "3.8.8"
  }
 },
 "nbformat": 4,
 "nbformat_minor": 5
}
