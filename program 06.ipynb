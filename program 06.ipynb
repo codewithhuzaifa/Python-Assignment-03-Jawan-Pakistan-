{
 "cells": [
  {
   "cell_type": "code",
   "execution_count": 8,
   "id": "34c0db50",
   "metadata": {},
   "outputs": [
    {
     "name": "stdout",
     "output_type": "stream",
     "text": [
      "Enter First Number : 10\n",
      "Enter Second Number : 65\n",
      "Answer after addition Is :  75\n"
     ]
    }
   ],
   "source": [
    "#6. Write a python program which takes two inputs from user and print them addition\n",
    "\n",
    "x = int(input(\"Enter First Number : \"))\n",
    "y = int(input(\"Enter Second Number : \"))\n",
    "print(\"Answer after addition Is : \",(x+y))"
   ]
  },
  {
   "cell_type": "code",
   "execution_count": null,
   "id": "a7e15b73",
   "metadata": {},
   "outputs": [],
   "source": []
  }
 ],
 "metadata": {
  "kernelspec": {
   "display_name": "Python 3",
   "language": "python",
   "name": "python3"
  }
 },
 "nbformat": 4,
 "nbformat_minor": 5
}
